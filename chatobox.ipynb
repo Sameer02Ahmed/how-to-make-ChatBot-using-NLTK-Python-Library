{
  "nbformat": 4,
  "nbformat_minor": 0,
  "metadata": {
    "colab": {
      "provenance": []
    },
    "kernelspec": {
      "name": "python3",
      "display_name": "Python 3"
    },
    "language_info": {
      "name": "python"
    }
  },
  "cells": [
    {
      "cell_type": "code",
      "execution_count": 6,
      "metadata": {
        "colab": {
          "base_uri": "https://localhost:8080/",
          "height": 0
        },
        "id": "Ld4qGT-32pup",
        "outputId": "e39ceb6e-1f11-48bf-e603-b9c6532b2934"
      },
      "outputs": [
        {
          "output_type": "stream",
          "name": "stdout",
          "text": [
            "Hello! I am assist you to provide our company product / services.\n",
            "You: hello\n",
            "Chatbot: Hello!\n",
            "You: what is your name\n",
            "Chatbot: My name is chato.\n",
            "You: products\n",
            "Chatbot: please visit our site for detailed info or call us to this number for assistance 111-002-123\n",
            "You: product price\n",
            "Chatbot: Price may vary different to product / service, you want, please visit our site for detailed info or call us to this number for assistance 111-002-123\n",
            "You: timing\n",
            "Chatbot: 9 to 5 (Monday to Friday)\n",
            "You: location\n",
            "Chatbot: Block 2 building, Shahra-e-faisal, Karachi\n",
            "You: quit\n",
            "Chatbot: Goodbye!\n"
          ]
        }
      ],
      "source": [
        "#Import NLTK and Necessary Libraries:\n",
        "import nltk\n",
        "from nltk.chat.util import Chat, reflections\n",
        "#Define Pairs for Chat Responses:\n",
        "pairs = [\n",
        "    (r'hello|hi|hey', ['Hello!', 'Hi there!', 'Hey!']),\n",
        "    (r'how are you', ['I am good, thank you!', 'I am a chatbot, so I don\\'t have feelings.']),\n",
        "    (r'what is your name', ['My name is chato.']),\n",
        "    (r'products|services', ['please visit our site for detailed info or call us to this number for assistance 111-002-123']),\n",
        "    (r'product price|service price|price', ['Price may vary different to product / service, you want, please visit our site for detailed info or call us to this number for assistance 111-002-123']),\n",
        "    (r'timing|time', ['9 to 5 (Monday to Friday)']),\n",
        "    (r'location|address', ['Block 2 building, Shahra-e-faisal, Karachi']),\n",
        "    # Add more patterns and responses here\n",
        "]\n",
        "#Create a Chatbot Instance:\n",
        "chatbot = Chat(pairs, reflections)\n",
        "#Define a Function to Start the Chat:\n",
        "def chat_with_bot():\n",
        "    print(\"Hello! I am assist you to provide our company product / services.\")\n",
        "    while True:\n",
        "        user_input = input(\"You: \")\n",
        "        if user_input.lower() == 'quit':\n",
        "            print(\"Chatbot: Goodbye!\")\n",
        "            break\n",
        "        response = chatbot.respond(user_input)\n",
        "        print(\"Chatbot:\", response)\n",
        "#Run the Chatbot:\n",
        "if __name__ == \"__main__\":\n",
        "    chat_with_bot()"
      ]
    }
  ]
}